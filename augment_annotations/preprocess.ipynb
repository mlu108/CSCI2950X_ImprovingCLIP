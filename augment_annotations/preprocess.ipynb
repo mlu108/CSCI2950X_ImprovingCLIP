{
 "cells": [
  {
   "cell_type": "code",
   "execution_count": 4,
   "metadata": {},
   "outputs": [],
   "source": [
    "import csv\n",
    "import json"
   ]
  },
  {
   "cell_type": "code",
   "execution_count": 3,
   "metadata": {},
   "outputs": [],
   "source": [
    "def convert_csv_to_json(input_csv, output_json):\n",
    "    annotations = []\n",
    "    caption_id = 1  # Initialize a unique ID for each caption\n",
    "    \n",
    "    with open(input_csv, mode='r', encoding='utf-8') as csvfile:\n",
    "        reader = csv.DictReader(csvfile)\n",
    "        \n",
    "        # Process each row in the CSV file\n",
    "        for row in reader:\n",
    "            image_id = int(row['image_id'])\n",
    "            variant_caption = row['variant'].strip()\n",
    "            \n",
    "            # Add only the variant caption\n",
    "            annotations.append({\n",
    "                \"image_id\": image_id,\n",
    "                \"id\": caption_id,\n",
    "                \"caption\": variant_caption\n",
    "            })\n",
    "            caption_id += 1\n",
    "\n",
    "    # Output to json file\n",
    "    output_data = {\"annotations\": annotations}\n",
    "    with open(output_json, mode='w', encoding='utf-8') as jsonfile:\n",
    "        json.dump(output_data, jsonfile, indent=4)"
   ]
  },
  {
   "cell_type": "code",
   "execution_count": 4,
   "metadata": {},
   "outputs": [],
   "source": [
    "input_file = \"variants_train2017.csv\"\n",
    "output_file = \"variants_train2017.json\"\n",
    "\n",
    "convert_csv_to_json(input_file, output_file)"
   ]
  },
  {
   "cell_type": "code",
   "execution_count": 5,
   "metadata": {},
   "outputs": [],
   "source": [
    "def concatenate_annotations(orig, variant, mod):\n",
    "    orig_data = json.load(open(orig, 'r', encoding='utf-8'))\n",
    "    variant_data = json.load(open(variant, 'r', encoding='utf-8'))\n",
    "    \n",
    "    # Ensure the \"annotations\" key exists in both files\n",
    "    if \"annotations\" in orig_data and \"annotations\" in variant_data:\n",
    "        # Concatenate the annotations\n",
    "        orig_data[\"annotations\"].extend(variant_data[\"annotations\"])\n",
    "    else:\n",
    "        print(\"One of the files does not contain an 'annotations' key.\")\n",
    "        return\n",
    "\n",
    "    # Write the modified data back to file1\n",
    "    json.dump(orig_data, open(mod, 'w', encoding='utf-8'), indent=4)"
   ]
  },
  {
   "cell_type": "code",
   "execution_count": null,
   "metadata": {},
   "outputs": [],
   "source": [
    "orig_train = \"../data/coco/annotations/captions_train2017.json\"\n",
    "variant_train = \"variants_train2017.json\"\n",
    "mod_train = \"../data/coco/annotations/captions_w_variants_train2017.json\"\n",
    "\n",
    "concatenate_annotations(orig_train, variant_train, mod_train)"
   ]
  },
  {
   "cell_type": "code",
   "execution_count": null,
   "metadata": {},
   "outputs": [
    {
     "name": "stdout",
     "output_type": "stream",
     "text": [
      "591753\n"
     ]
    }
   ],
   "source": [
    "orig_data = json.load(open(\"../data/coco/annotations/captions_train2017.json\", 'r', encoding='utf-8'))\n",
    "print(len(orig_data[\"annotations\"]))"
   ]
  },
  {
   "cell_type": "code",
   "execution_count": null,
   "metadata": {},
   "outputs": [
    {
     "name": "stdout",
     "output_type": "stream",
     "text": [
      "789030\n"
     ]
    }
   ],
   "source": [
    "variant_data = json.load(open(\"../data/coco/annotations/captions_w_variants_train2017.json\", 'r', encoding='utf-8'))\n",
    "print(len(variant_data[\"annotations\"]))"
   ]
  }
 ],
 "metadata": {
  "kernelspec": {
   "display_name": "Python 3",
   "language": "python",
   "name": "python3"
  },
  "language_info": {
   "codemirror_mode": {
    "name": "ipython",
    "version": 3
   },
   "file_extension": ".py",
   "mimetype": "text/x-python",
   "name": "python",
   "nbconvert_exporter": "python",
   "pygments_lexer": "ipython3",
   "version": "3.10.12"
  }
 },
 "nbformat": 4,
 "nbformat_minor": 2
}
