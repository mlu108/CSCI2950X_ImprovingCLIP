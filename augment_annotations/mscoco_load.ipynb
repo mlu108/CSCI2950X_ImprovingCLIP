{
 "cells": [
  {
   "cell_type": "code",
   "execution_count": 2,
   "metadata": {},
   "outputs": [
    {
     "name": "stdout",
     "output_type": "stream",
     "text": [
      "Collecting pycocotools\n",
      "  Downloading pycocotools-2.0.8-cp310-cp310-macosx_10_9_universal2.whl.metadata (1.1 kB)\n",
      "Requirement already satisfied: matplotlib>=2.1.0 in /Users/meng.lu/miniforge3/envs/tensor_env/lib/python3.10/site-packages (from pycocotools) (3.7.3)\n",
      "Requirement already satisfied: numpy in /Users/meng.lu/miniforge3/envs/tensor_env/lib/python3.10/site-packages (from pycocotools) (1.26.3)\n",
      "Requirement already satisfied: contourpy>=1.0.1 in /Users/meng.lu/miniforge3/envs/tensor_env/lib/python3.10/site-packages (from matplotlib>=2.1.0->pycocotools) (1.1.0)\n",
      "Requirement already satisfied: cycler>=0.10 in /Users/meng.lu/miniforge3/envs/tensor_env/lib/python3.10/site-packages (from matplotlib>=2.1.0->pycocotools) (0.11.0)\n",
      "Requirement already satisfied: fonttools>=4.22.0 in /Users/meng.lu/miniforge3/envs/tensor_env/lib/python3.10/site-packages (from matplotlib>=2.1.0->pycocotools) (4.42.1)\n",
      "Requirement already satisfied: kiwisolver>=1.0.1 in /Users/meng.lu/miniforge3/envs/tensor_env/lib/python3.10/site-packages (from matplotlib>=2.1.0->pycocotools) (1.4.5)\n",
      "Requirement already satisfied: packaging>=20.0 in /Users/meng.lu/miniforge3/envs/tensor_env/lib/python3.10/site-packages (from matplotlib>=2.1.0->pycocotools) (23.1)\n",
      "Requirement already satisfied: pillow>=6.2.0 in /Users/meng.lu/miniforge3/envs/tensor_env/lib/python3.10/site-packages (from matplotlib>=2.1.0->pycocotools) (10.2.0)\n",
      "Requirement already satisfied: pyparsing>=2.3.1 in /Users/meng.lu/miniforge3/envs/tensor_env/lib/python3.10/site-packages (from matplotlib>=2.1.0->pycocotools) (3.1.1)\n",
      "Requirement already satisfied: python-dateutil>=2.7 in /Users/meng.lu/miniforge3/envs/tensor_env/lib/python3.10/site-packages (from matplotlib>=2.1.0->pycocotools) (2.8.2)\n",
      "Requirement already satisfied: six>=1.5 in /Users/meng.lu/miniforge3/envs/tensor_env/lib/python3.10/site-packages (from python-dateutil>=2.7->matplotlib>=2.1.0->pycocotools) (1.16.0)\n",
      "Downloading pycocotools-2.0.8-cp310-cp310-macosx_10_9_universal2.whl (162 kB)\n",
      "Installing collected packages: pycocotools\n",
      "Successfully installed pycocotools-2.0.8\n"
     ]
    }
   ],
   "source": [
    "!pip install pycocotools"
   ]
  },
  {
   "cell_type": "code",
   "execution_count": 1,
   "metadata": {},
   "outputs": [
    {
     "name": "stdout",
     "output_type": "stream",
     "text": [
      "loading annotations into memory...\n",
      "Done (t=0.43s)\n",
      "creating index...\n",
      "index created!\n"
     ]
    },
    {
     "ename": "KeyboardInterrupt",
     "evalue": "",
     "output_type": "error",
     "traceback": [
      "\u001b[0;31m---------------------------------------------------------------------------\u001b[0m",
      "\u001b[0;31mKeyboardInterrupt\u001b[0m                         Traceback (most recent call last)",
      "Cell \u001b[0;32mIn[1], line 17\u001b[0m\n\u001b[1;32m     14\u001b[0m captions_data \u001b[38;5;241m=\u001b[39m []\n\u001b[1;32m     15\u001b[0m \u001b[38;5;28;01mfor\u001b[39;00m img_id \u001b[38;5;129;01min\u001b[39;00m image_ids:\n\u001b[1;32m     16\u001b[0m     \u001b[38;5;66;03m# Get annotation IDs for this image\u001b[39;00m\n\u001b[0;32m---> 17\u001b[0m     ann_ids \u001b[38;5;241m=\u001b[39m \u001b[43mcoco\u001b[49m\u001b[38;5;241;43m.\u001b[39;49m\u001b[43mgetAnnIds\u001b[49m\u001b[43m(\u001b[49m\u001b[43mimgIds\u001b[49m\u001b[38;5;241;43m=\u001b[39;49m\u001b[43mimg_id\u001b[49m\u001b[43m)\u001b[49m\n\u001b[1;32m     19\u001b[0m     \u001b[38;5;66;03m# Load annotations\u001b[39;00m\n\u001b[1;32m     20\u001b[0m     anns \u001b[38;5;241m=\u001b[39m coco\u001b[38;5;241m.\u001b[39mloadAnns(ann_ids)\n",
      "File \u001b[0;32m~/miniforge3/envs/tensor_env/lib/python3.10/site-packages/pycocotools/coco.py:143\u001b[0m, in \u001b[0;36mCOCO.getAnnIds\u001b[0;34m(self, imgIds, catIds, areaRng, iscrowd)\u001b[0m\n\u001b[1;32m    141\u001b[0m \u001b[38;5;28;01melse\u001b[39;00m:\n\u001b[1;32m    142\u001b[0m     \u001b[38;5;28;01mif\u001b[39;00m \u001b[38;5;129;01mnot\u001b[39;00m \u001b[38;5;28mlen\u001b[39m(imgIds) \u001b[38;5;241m==\u001b[39m \u001b[38;5;241m0\u001b[39m:\n\u001b[0;32m--> 143\u001b[0m         lists \u001b[38;5;241m=\u001b[39m [\u001b[38;5;28mself\u001b[39m\u001b[38;5;241m.\u001b[39mimgToAnns[imgId] \u001b[38;5;28;01mfor\u001b[39;00m imgId \u001b[38;5;129;01min\u001b[39;00m imgIds \u001b[38;5;28;01mif\u001b[39;00m imgId \u001b[38;5;129;01min\u001b[39;00m \u001b[38;5;28mself\u001b[39m\u001b[38;5;241m.\u001b[39mimgToAnns]\n\u001b[1;32m    144\u001b[0m         anns \u001b[38;5;241m=\u001b[39m \u001b[38;5;28mlist\u001b[39m(itertools\u001b[38;5;241m.\u001b[39mchain\u001b[38;5;241m.\u001b[39mfrom_iterable(lists))\n\u001b[1;32m    145\u001b[0m     \u001b[38;5;28;01melse\u001b[39;00m:\n",
      "File \u001b[0;32m~/miniforge3/envs/tensor_env/lib/python3.10/site-packages/pycocotools/coco.py:143\u001b[0m, in \u001b[0;36m<listcomp>\u001b[0;34m(.0)\u001b[0m\n\u001b[1;32m    141\u001b[0m \u001b[38;5;28;01melse\u001b[39;00m:\n\u001b[1;32m    142\u001b[0m     \u001b[38;5;28;01mif\u001b[39;00m \u001b[38;5;129;01mnot\u001b[39;00m \u001b[38;5;28mlen\u001b[39m(imgIds) \u001b[38;5;241m==\u001b[39m \u001b[38;5;241m0\u001b[39m:\n\u001b[0;32m--> 143\u001b[0m         lists \u001b[38;5;241m=\u001b[39m [\u001b[38;5;28mself\u001b[39m\u001b[38;5;241m.\u001b[39mimgToAnns[imgId] \u001b[38;5;28;01mfor\u001b[39;00m imgId \u001b[38;5;129;01min\u001b[39;00m imgIds \u001b[38;5;28;01mif\u001b[39;00m imgId \u001b[38;5;129;01min\u001b[39;00m \u001b[38;5;28mself\u001b[39m\u001b[38;5;241m.\u001b[39mimgToAnns]\n\u001b[1;32m    144\u001b[0m         anns \u001b[38;5;241m=\u001b[39m \u001b[38;5;28mlist\u001b[39m(itertools\u001b[38;5;241m.\u001b[39mchain\u001b[38;5;241m.\u001b[39mfrom_iterable(lists))\n\u001b[1;32m    145\u001b[0m     \u001b[38;5;28;01melse\u001b[39;00m:\n",
      "\u001b[0;31mKeyboardInterrupt\u001b[0m: "
     ]
    }
   ],
   "source": [
    "import json\n",
    "from pycocotools.coco import COCO\n",
    "\n",
    "# Path to the MS COCO captions file (e.g., captions_train2017.json)\n",
    "annotation_file = 'annotations/captions_train2017.json'\n",
    "\n",
    "# Initialize COCO API for caption annotations\n",
    "coco = COCO(annotation_file)\n",
    "\n",
    "# Get all image IDs from the dataset\n",
    "image_ids = coco.getImgIds()\n",
    "\n",
    "# Get all captions and associated image information\n",
    "captions_data = []\n",
    "for img_id in image_ids:\n",
    "    # Get annotation IDs for this image\n",
    "    ann_ids = coco.getAnnIds(imgIds=img_id)\n",
    "    \n",
    "    # Load annotations\n",
    "    anns = coco.loadAnns(ann_ids)\n",
    "    \n",
    "    # Extract captions and image information\n",
    "    for ann in anns:\n",
    "        caption = ann['caption']\n",
    "        image_info = coco.loadImgs(img_id)[0]  # Get image info\n",
    "        captions_data.append({\n",
    "            'image_id': img_id,\n",
    "            'caption': caption,\n",
    "            'image_file': image_info['file_name']\n",
    "        })\n",
    "\n",
    "\n",
    "for i in range(len(captions_data)):\n",
    "    print(f\"Image ID: {captions_data[i]['image_id']}, Caption: {captions_data[i]['caption']}, Image File: {captions_data[i]['image_file']}\")\n"
   ]
  }
 ],
 "metadata": {
  "kernelspec": {
   "display_name": "tensor_env",
   "language": "python",
   "name": "python3"
  },
  "language_info": {
   "codemirror_mode": {
    "name": "ipython",
    "version": 3
   },
   "file_extension": ".py",
   "mimetype": "text/x-python",
   "name": "python",
   "nbconvert_exporter": "python",
   "pygments_lexer": "ipython3",
   "version": "3.10.12"
  }
 },
 "nbformat": 4,
 "nbformat_minor": 2
}
